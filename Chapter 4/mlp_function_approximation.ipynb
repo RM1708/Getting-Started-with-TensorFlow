{
 "cells": [
  {
   "cell_type": "code",
   "execution_count": 1,
   "metadata": {},
   "outputs": [
    {
     "data": {
      "text/plain": [
       "<Figure size 640x480 with 1 Axes>"
      ]
     },
     "metadata": {},
     "output_type": "display_data"
    },
    {
     "name": "stdout",
     "output_type": "stream",
     "text": [
      "epoch 0, cost = 74.9901\n",
      "epoch 100, cost = 24.2529\n",
      "epoch 200, cost = 22.7959\n",
      "epoch 300, cost = 20.9407\n",
      "epoch 400, cost = 19.2692\n",
      "epoch 500, cost = 17.2476\n",
      "epoch 600, cost = 14.2435\n",
      "epoch 700, cost = 10.8662\n",
      "epoch 800, cost = 7.69755\n",
      "epoch 900, cost = 5.07014\n",
      "epoch 1000, cost = 3.14536\n",
      "epoch 1100, cost = 1.9341\n",
      "epoch 1200, cost = 1.29925\n",
      "epoch 1300, cost = 1.00814\n",
      "epoch 1400, cost = 0.869538\n"
     ]
    },
    {
     "data": {
      "text/plain": [
       "<Figure size 640x480 with 1 Axes>"
      ]
     },
     "metadata": {},
     "output_type": "display_data"
    }
   ],
   "source": [
    "import tensorflow as tf\n",
    "import numpy as np\n",
    "import math, random\n",
    "import matplotlib.pyplot as plt\n",
    "\n",
    "\n",
    "np.random.seed(1000) \n",
    "function_to_learn = lambda x: np.cos(x) + 0.1*np.random.randn(*x.shape)\n",
    "layer_1_neurons = 10\n",
    "NUM_points = 1000\n",
    "#TRAIN_SPLIT = .8\n",
    "batch_size = 100\n",
    "NUM_EPOCHS = 1500\n",
    "\n",
    "\n",
    "all_x = np.float32(np.random.uniform(-2*math.pi, 2*math.pi, (1, NUM_points))).T\n",
    "np.random.shuffle(all_x)\n",
    "\n",
    "\n",
    "train_size = int(900)\n",
    "#the first train_size points are in the training set \n",
    "x_training = all_x[:train_size]\n",
    "y_training = function_to_learn(x_training)\n",
    "\n",
    "#the last (NUM_points - train_size) are in the validation set\n",
    "x_validation = all_x[train_size:]\n",
    "y_validation = function_to_learn(x_validation)\n",
    "\n",
    "plt.figure(1)\n",
    "plt.scatter(x_training, y_training, c='green', label='train')\n",
    "plt.scatter(x_validation, y_validation, c='red', label='validation')\n",
    "plt.legend()\n",
    "plt.show()\n",
    "\n",
    "X = tf.placeholder(tf.float32, [None, 1], name=\"X\")\n",
    "Y = tf.placeholder(tf.float32, [None, 1], name=\"Y\")\n",
    "\n",
    "#first layer\n",
    "#Number of neurons = 10\n",
    "w_h = tf.Variable(tf.random_uniform([1, layer_1_neurons],\\\n",
    "                                    minval=-1, maxval=1, dtype=tf.float32))\n",
    "b_h = tf.Variable(tf.zeros([1, layer_1_neurons], dtype=tf.float32))\n",
    "h = tf.nn.sigmoid(tf.matmul(X, w_h) + b_h)\n",
    "\n",
    "#output layer\n",
    "#Number of neurons = 10\n",
    "w_o = tf.Variable(tf.random_uniform([layer_1_neurons, 1],\\\n",
    "                                    minval=-1, maxval=1, dtype=tf.float32))\n",
    "b_o = tf.Variable(tf.zeros([1, 1], dtype=tf.float32))\n",
    "\n",
    "#build the model\n",
    "model = tf.matmul(h, w_o) + b_o\n",
    "\n",
    "#minimize the cost function (model - Y)\n",
    "train_op = tf.train.AdamOptimizer().minimize(tf.nn.l2_loss(model - Y))\n",
    "\n",
    "#Start the Learning phase\n",
    "sess = tf.Session()\n",
    "try:\n",
    "    sess.run(tf.global_variables_initializer())\n",
    "\n",
    "    errors = []\n",
    "    for i in range(NUM_EPOCHS):\n",
    "        for start, end in zip(range(0, len(x_training), batch_size),\\\n",
    "                              range(batch_size, len(x_training), batch_size)):\n",
    "            sess.run(train_op, feed_dict={X: x_training[start:end],\\\n",
    "                                          Y: y_training[start:end]})\n",
    "        cost = sess.run(tf.nn.l2_loss(model - y_validation),\\\n",
    "                        feed_dict={X:x_validation})\n",
    "        errors.append(cost)\n",
    "        if i%100 == 0: print (\"epoch %d, cost = %g\" % (i, cost))\n",
    "\n",
    "    plt.plot(range(NUM_EPOCHS), errors, 'o', label='MLP Function Approximation')\n",
    "    plt.xlabel('epochs')\n",
    "    plt.ylabel('cost')\n",
    "    plt.legend \n",
    "    plt.show()\n",
    "except:\n",
    "    print(\"EXCEPTION\")\n",
    "    sess.close()"
   ]
  },
  {
   "cell_type": "code",
   "execution_count": null,
   "metadata": {},
   "outputs": [],
   "source": []
  }
 ],
 "metadata": {
  "kernelspec": {
   "display_name": "Python 3",
   "language": "python",
   "name": "python3"
  },
  "language_info": {
   "codemirror_mode": {
    "name": "ipython",
    "version": 3
   },
   "file_extension": ".py",
   "mimetype": "text/x-python",
   "name": "python",
   "nbconvert_exporter": "python",
   "pygments_lexer": "ipython3",
   "version": "3.6.5"
  }
 },
 "nbformat": 4,
 "nbformat_minor": 2
}
