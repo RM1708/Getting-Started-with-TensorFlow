{
 "cells": [
  {
   "cell_type": "markdown",
   "metadata": {},
   "source": [
    "WARNING:tensorflow:From <ipython-input-2-124e9173c80b>:2: read_data_sets (from tensorflow.contrib.learn.python.learn.datasets.mnist) is deprecated and will be removed in a future version.\n",
    "Instructions for updating:\n",
    "Please use alternatives such as official/mnist/dataset.py from tensorflow/models.\n",
    "\n",
    "WARNING:tensorflow:From /home/rm/anaconda3/envs/tensorflow/lib/python3.6/site-packages/tensorflow/contrib/learn/python/learn/datasets/mnist.py:260: maybe_download (from tensorflow.contrib.learn.python.learn.datasets.base) is deprecated and will be removed in a future version.\n",
    "Instructions for updating:\n",
    "Please write your own downloading logic.\n",
    "\n",
    "WARNING:tensorflow:From /home/rm/anaconda3/envs/tensorflow/lib/python3.6/site-packages/tensorflow/contrib/learn/python/learn/datasets/mnist.py:262: extract_images (from tensorflow.contrib.learn.python.learn.datasets.mnist) is deprecated and will be removed in a future version.\n",
    "Instructions for updating:\n",
    "Please use tf.data to implement this functionality.\n",
    "Extracting MNIST_data/train-images-idx3-ubyte.gz\n",
    "\n",
    "WARNING:tensorflow:From /home/rm/anaconda3/envs/tensorflow/lib/python3.6/site-packages/tensorflow/contrib/learn/python/learn/datasets/mnist.py:267: extract_labels (from tensorflow.contrib.learn.python.learn.datasets.mnist) is deprecated and will be removed in a future version.\n",
    "Instructions for updating:\n",
    "Please use tf.data to implement this functionality.\n",
    "Extracting MNIST_data/train-labels-idx1-ubyte.gz\n",
    "\n",
    "WARNING:tensorflow:From /home/rm/anaconda3/envs/tensorflow/lib/python3.6/site-packages/tensorflow/contrib/learn/python/learn/datasets/mnist.py:110: dense_to_one_hot (from tensorflow.contrib.learn.python.learn.datasets.mnist) is deprecated and will be removed in a future version.\n",
    "Instructions for updating:\n",
    "Please use tf.one_hot on tensors.\n",
    "\n",
    "Extracting MNIST_data/t10k-images-idx3-ubyte.gz\n",
    "Extracting MNIST_data/t10k-labels-idx1-ubyte.gz\n",
    "\n",
    "WARNING:tensorflow:From /home/rm/anaconda3/envs/tensorflow/lib/python3.6/site-packages/tensorflow/contrib/learn/python/learn/datasets/mnist.py:290: DataSet.__init__ (from tensorflow.contrib.learn.python.learn.datasets.mnist) is deprecated and will be removed in a future version.\n",
    "Instructions for updating:\n",
    "Please use alternatives such as official/mnist/dataset.py from tensorflow/models."
   ]
  },
  {
   "cell_type": "code",
   "execution_count": null,
   "metadata": {},
   "outputs": [],
   "source": [
    "#coding utf-8\n",
    "\n",
    "import numpy as np\n",
    "import matplotlib.pyplot as plt"
   ]
  },
  {
   "cell_type": "markdown",
   "metadata": {},
   "source": [
    "https://stackoverflow.com/questions/33664651/import-input-data-mnist-tensorflow-not-working\n",
    "See answer by Kongsea"
   ]
  },
  {
   "cell_type": "code",
   "execution_count": null,
   "metadata": {},
   "outputs": [],
   "source": [
    "import sys, os, importlib\n",
    "# answered May 24 at 12:07\n",
    "#Ataxia\n",
    "pyfilepath = \"/home/rm/anaconda3/envs/tensorflow/lib/python3.6/site-packages/\" + \\\n",
    "                                \"tensorflow/examples/tutorials/mnist/input_data.py\"\n",
    "\n",
    "dirname, basename = os.path.split(pyfilepath) # \n",
    "\n",
    "#print(\"path before append: \\n\", sys.path)\n",
    "\n",
    "sys.path.append(dirname)\n",
    "#print(\"path after append: \\n\", sys.path)\n",
    "\n",
    "module_name = os.path.splitext(basename)[0] # /my/path/mymodule.py --> mymodule\n",
    "#mname = os.path.splitext(os.path.basename(filename))[0]\n",
    "module_read_data = importlib.import_module(module_name) # name space of defined module \n",
    "                                            #(otherwise we would literally look for \"module_name\")\n",
    "#imported = importlib.import_module(mname)                       \n",
    "sys.path.pop()\n",
    "#print(\"sys path after pop: \\n\", sys.path)\n",
    "\n",
    "#dir(module_read_data)"
   ]
  },
  {
   "cell_type": "code",
   "execution_count": null,
   "metadata": {},
   "outputs": [],
   "source": [
    "from tensorflow.examples.tutorials.mnist import input_data\n",
    "mnist_images = input_data.read_data_sets(\"MNIST_data\", one_hot=True)\n"
   ]
  },
  {
   "cell_type": "markdown",
   "metadata": {},
   "source": [
    "train.next_batch(10) returns the first 10 images. it also returns two lists, the matrix of the pixels loaded, and the list that contains the real values loaded:"
   ]
  },
  {
   "cell_type": "code",
   "execution_count": null,
   "metadata": {},
   "outputs": [],
   "source": [
    "#mnist_images is of type base.Datasets.\n",
    "#See ./anaconda3/envs/tensorflow/lib/python3.6/site-packages/tensorflow/contrib/learn/python/learn/datasets/base.py\n",
    "#It contains three objects of type mnist.DataSet\n",
    "#See class DataSet\n",
    "#./anaconda3/envs/tensorflow/lib/python3.6/site-packages/tensorflow/contrib/learn/python/learn/datasets/mnist.py \n",
    "\n",
    "#See https://docs.python.org/3.6/library/collections.html#collections.namedtuple\n",
    "\n",
    "DO_PRINT = False\n",
    "if (DO_PRINT):\n",
    "    print(\"type of mnist_image: \", type(mnist_images)) #This is a named tuple\n",
    "    print(\"type of mnist_image[0]: \", type(mnist_images[0]))\n",
    "    print(\"type of mnist_image[1]: \", type(mnist_images[1]))\n",
    "    print(\"type of mnist_image[2]: \", type(mnist_images[2]))\n",
    "    try:\n",
    "        print(\"mnist_image: \", type(mnist_images[3]))\n",
    "    except:\n",
    "        print(\"mnist_images[3] does not exist\")\n",
    "\n",
    "    #print(\"mnist_image: \", (mnist_images).shape) #This is a named tuple\n",
    "    print(\"\\nmnist_image[0].images).shape: \", (mnist_images[0].images).shape, \",#Training Image\")\n",
    "    print(\"mnist_image.train.images).shape: \", (mnist_images.train.images).shape, \",#Training Image\")\n",
    "    print(\"mnist_image[0].labels).shape: \", (mnist_images[0].labels).shape, \",#Training labels\")\n",
    "    print(\"mnist_image[0].num_examples): \", (mnist_images[0].num_examples), \",#Training num_examples\")\n",
    "\n",
    "    print(\"\\nmnist_image[1].images).shape: \", (mnist_images[1].images).shape, \",#Validation Image\")\n",
    "    print(\"mnist_image.validation.images).shape: \", (mnist_images.validation.images).shape, \",#Validation Image\")\n",
    "    print(\"mnist_image[1].labels).shape: \", (mnist_images[1].labels).shape, \",#Validation labels\")\n",
    "    print(\"mnist_image[1].num_examples): \", (mnist_images[1].num_examples), \",#Validation num_examples\")\n",
    "\n",
    "    print(\"\\nmnist_image[2].images).shape: \", (mnist_images[2].images).shape, \",#Test Image\")\n",
    "    print(\"mnist_image.test.images).shape: \", (mnist_images.test.images).shape, \",#Test Image\")\n",
    "    print(\"mnist_image[2].labels).shape: \", (mnist_images[2].labels).shape, \",#Test labels\")\n",
    "    print(\"mnist_image[2].num_examples): \", (mnist_images[2].num_examples), \",#Test num_examples\")\n",
    "\n",
    "pixels,real_values = mnist_images.train.next_batch(10)"
   ]
  },
  {
   "cell_type": "code",
   "execution_count": null,
   "metadata": {},
   "outputs": [],
   "source": [
    "DO_PRINT = True\n",
    "if(DO_PRINT):\n",
    "    print (\"list of values loaded \\n\",real_values)\n",
    "    print(\"\\nNo Of Values loaded: \\n\", len(real_values))\n",
    "\n",
    "    print(\"\\nImage Data Array Dims: \\n\", pixels.ndim)\n",
    "    print(\"\\nImage Data Array Shape: \\n\", pixels.shape)\n",
    "    \n",
    "example_to_visualize = 5\n",
    "print (\"element {}\".format(example_to_visualize + 1),\", of the list, \", \"(i.e. \", real_values[example_to_visualize], \"),\"\\\n",
    "                    , \" is dispayed\\n\")"
   ]
  },
  {
   "cell_type": "code",
   "execution_count": null,
   "metadata": {},
   "outputs": [],
   "source": [
    "image = pixels[ example_to_visualize,:] \n",
    "image = np.reshape( image,[ 28,28]) \n",
    "plt.imshow( image) \n",
    "plt.show()"
   ]
  }
 ],
 "metadata": {
  "kernelspec": {
   "display_name": "Python 3",
   "language": "python",
   "name": "python3"
  },
  "language_info": {
   "codemirror_mode": {
    "name": "ipython",
    "version": 3
   },
   "file_extension": ".py",
   "mimetype": "text/x-python",
   "name": "python",
   "nbconvert_exporter": "python",
   "pygments_lexer": "ipython3",
   "version": "3.6.5"
  }
 },
 "nbformat": 4,
 "nbformat_minor": 2
}
